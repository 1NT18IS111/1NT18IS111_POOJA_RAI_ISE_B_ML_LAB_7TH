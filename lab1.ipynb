{
 "cells": [
  {
   "cell_type": "markdown",
   "source": [
    "# Python stuff\n",
    "\n",
    "> 12/11/2021"
   ],
   "metadata": {}
  },
  {
   "cell_type": "markdown",
   "source": [
    "## Calculator"
   ],
   "metadata": {}
  },
  {
   "cell_type": "code",
   "execution_count": null,
   "source": [
    "while True:\n",
    "    op1 = int(input(\"Enter first operand\"))\n",
    "    op2 = int(input(\"Enter second operand\"))\n",
    "\n",
    "    op = input(\"Enter operator\")\n",
    "\n",
    "    if op == '+':\n",
    "        print(f\"Answer = {op1 + op2}\")\n",
    "    elif op == '-':\n",
    "        print(f\"Answer = {op1 - op2}\")\n",
    "    elif op == '*':\n",
    "        print(f\"Answer = {op1 * op2}\")\n",
    "    elif op == '/':\n",
    "        print(f\"Answer = {op1 / op2}\")\n",
    "    elif op == '%':\n",
    "        print(f\"Answer = {op1 % op2}\")\n",
    "    else:\n",
    "        print(\"Enter '+', '-', '*', '/', '%'\")"
   ],
   "outputs": [],
   "metadata": {}
  },
  {
   "cell_type": "markdown",
   "source": [
    "## Count frequency of elements in a list"
   ],
   "metadata": {}
  },
  {
   "cell_type": "code",
   "execution_count": 1,
   "source": [
    "nums = [1,3,3,5,2,4,6,4,7,9]"
   ],
   "outputs": [],
   "metadata": {}
  },
  {
   "cell_type": "code",
   "execution_count": 2,
   "source": [
    "dic = {}\n",
    "\n",
    "for num in nums:\n",
    "    if num in dic:\n",
    "        dic[num] += 1\n",
    "    else:\n",
    "        dic[num] = 1\n",
    "\n",
    "dic"
   ],
   "outputs": [
    {
     "output_type": "execute_result",
     "data": {
      "text/plain": [
       "{1: 1, 3: 2, 5: 1, 2: 1, 4: 2, 6: 1, 7: 1, 9: 1}"
      ]
     },
     "metadata": {},
     "execution_count": 2
    }
   ],
   "metadata": {}
  },
  {
   "cell_type": "markdown",
   "source": [
    "## Concatenate two lists"
   ],
   "metadata": {}
  },
  {
   "cell_type": "code",
   "execution_count": 3,
   "source": [
    "l1 = [1,2,3]\n",
    "l2 = [3,4,5]\n",
    "\n",
    "l1.extend(l2)\n",
    "l1"
   ],
   "outputs": [
    {
     "output_type": "execute_result",
     "data": {
      "text/plain": [
       "[1, 2, 3, 3, 4, 5]"
      ]
     },
     "metadata": {},
     "execution_count": 3
    }
   ],
   "metadata": {}
  },
  {
   "cell_type": "markdown",
   "source": [
    "## Minimum in a list"
   ],
   "metadata": {}
  },
  {
   "cell_type": "code",
   "execution_count": 4,
   "source": [
    "min(nums)"
   ],
   "outputs": [
    {
     "output_type": "execute_result",
     "data": {
      "text/plain": [
       "1"
      ]
     },
     "metadata": {},
     "execution_count": 4
    }
   ],
   "metadata": {}
  },
  {
   "cell_type": "markdown",
   "source": [
    "## Maximum in a list"
   ],
   "metadata": {}
  },
  {
   "cell_type": "code",
   "execution_count": 5,
   "source": [
    "max(nums)"
   ],
   "outputs": [
    {
     "output_type": "execute_result",
     "data": {
      "text/plain": [
       "9"
      ]
     },
     "metadata": {},
     "execution_count": 5
    }
   ],
   "metadata": {}
  },
  {
   "cell_type": "markdown",
   "source": [
    "# Mean"
   ],
   "metadata": {}
  },
  {
   "cell_type": "code",
   "execution_count": 7,
   "source": [
    "print(f\"Mean: {sum(nums) / len(nums)}\")"
   ],
   "outputs": [
    {
     "output_type": "stream",
     "name": "stdout",
     "text": [
      "Mean: 4.4\n"
     ]
    }
   ],
   "metadata": {}
  },
  {
   "cell_type": "markdown",
   "source": [
    "# Median"
   ],
   "metadata": {}
  },
  {
   "cell_type": "code",
   "execution_count": 9,
   "source": [
    "temp = nums.copy()\n",
    "temp.sort()\n",
    "\n",
    "print(f\"Sorted list: {temp}\")\n",
    "\n",
    "print(f\"Median: {temp[len(temp) // 2]}\")"
   ],
   "outputs": [
    {
     "output_type": "stream",
     "name": "stdout",
     "text": [
      "Sorted list: [1, 2, 3, 3, 4, 4, 5, 6, 7, 9]\n",
      "Median: 4\n"
     ]
    }
   ],
   "metadata": {}
  },
  {
   "cell_type": "markdown",
   "source": [
    "# Mode"
   ],
   "metadata": {}
  },
  {
   "cell_type": "code",
   "execution_count": 11,
   "source": [
    "dic = {}\n",
    "\n",
    "for num in nums:\n",
    "    if num in dic:\n",
    "        dic[num] += 1\n",
    "    else:\n",
    "        dic[num] = 1\n",
    "\n",
    "max_val = 0\n",
    "mode = nums[0]\n",
    "\n",
    "for key, value in dic.items():\n",
    "    if value > max_val:\n",
    "        max_val = value\n",
    "        mode = key\n",
    "\n",
    "modes = []\n",
    "\n",
    "for key, value in dic.items():\n",
    "    if value == max_val:\n",
    "        modes.append(key)\n",
    "\n",
    "print(f\"Mode(s): {modes}\")"
   ],
   "outputs": [
    {
     "output_type": "stream",
     "name": "stdout",
     "text": [
      "Mode(s): [3, 4]\n"
     ]
    }
   ],
   "metadata": {}
  },
  {
   "cell_type": "markdown",
   "source": [
    "## Standard Deviation & variance\n",
    "\n",
    "```\n",
    "σ = sq_root(sum(a[i] - μ) ** 2)\n",
    "```"
   ],
   "metadata": {}
  },
  {
   "cell_type": "code",
   "execution_count": 14,
   "source": [
    "mean = sum(nums) / len(nums)\n",
    "\n",
    "squares = [((a - mean) ** 2) for a in nums]\n",
    "variance = sum(squares) / len(squares)\n",
    "\n",
    "print(f\"Variance: {variance}\")\n",
    "\n",
    "sd = variance ** 0.5\n",
    "\n",
    "print(f\"Standard Deviation: {sd}\")"
   ],
   "outputs": [
    {
     "output_type": "stream",
     "name": "stdout",
     "text": [
      "Variance: 5.24\n",
      "Standard Deviation: 2.2891046284519194\n"
     ]
    }
   ],
   "metadata": {}
  },
  {
   "cell_type": "markdown",
   "source": [
    "## Min-max normalisation\n",
    "\n",
    "```\n",
    "m_m_n = (a[i] - min) / (max - min)\n",
    "```"
   ],
   "metadata": {}
  },
  {
   "cell_type": "code",
   "execution_count": 15,
   "source": [
    "max_val = max(nums)\n",
    "min_val = min(nums)\n",
    "\n",
    "normalised_nums = [((n - min_val) / (max_val - min_val)) for n in nums]\n",
    "\n",
    "print(f\"Normalised elements: {normalised_nums}\")"
   ],
   "outputs": [
    {
     "output_type": "stream",
     "name": "stdout",
     "text": [
      "Normalised elements: [0.0, 0.25, 0.25, 0.5, 0.125, 0.375, 0.625, 0.375, 0.75, 1.0]\n"
     ]
    }
   ],
   "metadata": {}
  },
  {
   "cell_type": "markdown",
   "source": [
    "## Standardisation\n",
    "\n",
    "```\n",
    "for every value in array:\n",
    "    Standardized_value = value – μ / σ\n",
    "```"
   ],
   "metadata": {}
  },
  {
   "cell_type": "code",
   "execution_count": 16,
   "source": [
    "std_nums = [(n - (mean / sd)) for n in nums]\n",
    "\n",
    "print(f\"Standardised elements: {std_nums}\")"
   ],
   "outputs": [
    {
     "output_type": "stream",
     "name": "stdout",
     "text": [
      "Standardised elements: [-0.9221489246542836, 1.0778510753457164, 1.0778510753457164, 3.0778510753457162, 0.07785107534571645, 2.0778510753457162, 4.077851075345716, 2.0778510753457162, 5.077851075345716, 7.077851075345716]\n"
     ]
    }
   ],
   "metadata": {}
  },
  {
   "cell_type": "code",
   "execution_count": null,
   "source": [],
   "outputs": [],
   "metadata": {}
  }
 ],
 "metadata": {
  "orig_nbformat": 4,
  "language_info": {
   "name": "python",
   "version": "3.7.4",
   "mimetype": "text/x-python",
   "codemirror_mode": {
    "name": "ipython",
    "version": 3
   },
   "pygments_lexer": "ipython3",
   "nbconvert_exporter": "python",
   "file_extension": ".py"
  },
  "kernelspec": {
   "name": "python3",
   "display_name": "Python 3.7.4 64-bit ('base': conda)"
  },
  "interpreter": {
   "hash": "1467f57d84b6e92f4a84da548480054ae7f8b20936ad7bf380dd788f3906d999"
  }
 },
 "nbformat": 4,
 "nbformat_minor": 2
}